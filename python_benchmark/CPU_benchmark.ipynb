{
 "cells": [
  {
   "cell_type": "code",
   "execution_count": 1,
   "metadata": {},
   "outputs": [],
   "source": [
    "import numpy as np\n",
    "import pandas as pd\n",
    "from scipy.stats import spearmanr, mannwhitneyu, wilcoxon, friedmanchisquare, kruskal"
   ]
  },
  {
   "cell_type": "markdown",
   "metadata": {},
   "source": [
    "设置测试数组的大小"
   ]
  },
  {
   "cell_type": "code",
   "execution_count": 2,
   "metadata": {},
   "outputs": [],
   "source": [
    "arr_sizes = [256, 512, 1024, 2048, 4196, 8192]\n",
    "features = [128, 256, 512, 1024, 2048, 4096, 8192]"
   ]
  },
  {
   "cell_type": "markdown",
   "metadata": {},
   "source": [
    "初始化随机数组"
   ]
  },
  {
   "cell_type": "code",
   "execution_count": 3,
   "metadata": {},
   "outputs": [
    {
     "name": "stdout",
     "output_type": "stream",
     "text": [
      "1024 1024\n",
      "(1024, 1024)\n"
     ]
    }
   ],
   "source": [
    "# 设置随机种子\n",
    "np.random.seed(42)\n",
    "# 设置数组大小\n",
    "arr_size = arr_sizes[2]\n",
    "feature = features[3]\n",
    "# 初始化一个随机数组\n",
    "min_val = 0\n",
    "max_val = 2**32 - 1\n",
    "random_arr = np.random.randint(min_val, max_val, size=(arr_size, feature), dtype=np.uint32)\n",
    "print(arr_size, feature)\n",
    "print(random_arr.shape)\n"
   ]
  },
  {
   "cell_type": "markdown",
   "metadata": {},
   "source": [
    "spearmanr计算时间统计"
   ]
  },
  {
   "cell_type": "markdown",
   "metadata": {},
   "source": [
    "for循环版本"
   ]
  },
  {
   "cell_type": "code",
   "execution_count": 4,
   "metadata": {},
   "outputs": [
    {
     "name": "stdout",
     "output_type": "stream",
     "text": [
      "Spearmanr time cost:  0 days 00:00:35.359321\n"
     ]
    }
   ],
   "source": [
    "# 初始化spearmenr结果数组\n",
    "spearmanr_res = np.zeros((arr_size, arr_size))\n",
    "# pandas时间戳计时\n",
    "start = pd.Timestamp.now()\n",
    "for i in range(arr_size):\n",
    "  for j in range(arr_size):\n",
    "    spearmanr_res[i, j] = spearmanr(random_arr[i], random_arr[j])[0]\n",
    "end = pd.Timestamp.now()\n",
    "print('Spearmanr time cost: ', end - start)"
   ]
  },
  {
   "cell_type": "markdown",
   "metadata": {},
   "source": [
    "matrix版本"
   ]
  },
  {
   "cell_type": "code",
   "execution_count": 12,
   "metadata": {},
   "outputs": [
    {
     "name": "stdout",
     "output_type": "stream",
     "text": [
      "(8192, 8192)\n",
      "Spearmanr time cost:  0 days 00:00:28.625532\n"
     ]
    }
   ],
   "source": [
    "start = pd.Timestamp.now()\n",
    "spearmanr_res2 = spearmanr(random_arr, axis=1)[0]\n",
    "end = pd.Timestamp.now()\n",
    "print(spearmanr_res2.shape)\n",
    "print('Spearmanr time cost: ', end - start)"
   ]
  },
  {
   "cell_type": "markdown",
   "metadata": {},
   "source": [
    "Mann–Whitney U test计算时间统计"
   ]
  },
  {
   "cell_type": "markdown",
   "metadata": {},
   "source": [
    "for循环版本"
   ]
  },
  {
   "cell_type": "code",
   "execution_count": 4,
   "metadata": {},
   "outputs": [
    {
     "name": "stdout",
     "output_type": "stream",
     "text": [
      "Mannwhitneyu shape:  (1024, 1024)\n",
      "Mannwhitneyu time cost:  0 days 00:20:28.956170\n"
     ]
    }
   ],
   "source": [
    "# 初始化mannwhitneyu结果数组\n",
    "mannwhitneyu_res = np.zeros((arr_size, arr_size))\n",
    "# pandas时间戳计时\n",
    "start = pd.Timestamp.now()\n",
    "for i in range (arr_size):\n",
    "  for j in range(arr_size):\n",
    "    mannwhitneyu_res[i, j] = mannwhitneyu(random_arr[i], random_arr[j])[0]\n",
    "end = pd.Timestamp.now()\n",
    "print('Mannwhitneyu shape: ', mannwhitneyu_res.shape)\n",
    "print('Mannwhitneyu time cost: ', end - start)"
   ]
  },
  {
   "cell_type": "markdown",
   "metadata": {},
   "source": [
    "Wilcoxon signed-rank test 两变量检验版本"
   ]
  },
  {
   "cell_type": "code",
   "execution_count": 7,
   "metadata": {},
   "outputs": [
    {
     "name": "stdout",
     "output_type": "stream",
     "text": [
      "Wilcoxon time cost:  0 days 00:00:17.142066\n"
     ]
    }
   ],
   "source": [
    "# 初始化wilcoxon结果数组\n",
    "wilcoxon_res = np.zeros((arr_size, arr_size))\n",
    "# pandas时间戳计时\n",
    "start = pd.Timestamp.now()\n",
    "for i in range (arr_size):\n",
    "  for j in range(arr_size):\n",
    "    if i != j:\n",
    "      wilcoxon_res[i, j] = wilcoxon(random_arr[i], random_arr[j])[0]\n",
    "    else:\n",
    "      wilcoxon_res[i, j] = 7.5\n",
    "end = pd.Timestamp.now() \n",
    "print('Wilcoxon time cost: ', end - start)"
   ]
  },
  {
   "cell_type": "markdown",
   "metadata": {},
   "source": [
    "friedman test多变量检验"
   ]
  },
  {
   "cell_type": "code",
   "execution_count": 13,
   "metadata": {},
   "outputs": [
    {
     "name": "stdout",
     "output_type": "stream",
     "text": [
      "Friedman time cost:  0 days 00:00:01.521011\n"
     ]
    }
   ],
   "source": [
    "friedman_res = 0\n",
    "# pandas时间戳计时\n",
    "start = pd.Timestamp.now()\n",
    "friedman_res = friedmanchisquare(*random_arr)[0]\n",
    "end = pd.Timestamp.now()\n",
    "print('Friedman time cost: ', end - start) "
   ]
  },
  {
   "cell_type": "code",
   "execution_count": 9,
   "metadata": {},
   "outputs": [
    {
     "data": {
      "text/plain": [
       "215.82563514560752"
      ]
     },
     "execution_count": 9,
     "metadata": {},
     "output_type": "execute_result"
    }
   ],
   "source": [
    "friedman_res"
   ]
  },
  {
   "cell_type": "code",
   "execution_count": null,
   "metadata": {},
   "outputs": [],
   "source": [
    "kruskal_res = np.zeros((arr_size, arr_size))\n",
    "\n",
    "start = pd.Timestamp.now()\n",
    "for i in range(arr_size):\n",
    "  for j in range(arr_size):\n",
    "    if i != j:\n",
    "      # 将两个样本的数据合并成一个数组，并添加一个指示变量\n",
    "      data = np.concatenate([random_arr[i], random_arr[j]])\n",
    "      groups = np.concatenate([np.zeros(feature), np.ones(feature)])\n",
    "      \n",
    "      # 进行Kruskal-Wallis检验\n",
    "      \n",
    "      kruskal_res[i, j] = kruskal(*[data[groups == k] for k in np.unique(groups)])[0]\n",
    "end = pd.Timestamp.now()\n",
    "print('Kruskal time cost: ', end - start)"
   ]
  },
  {
   "cell_type": "code",
   "execution_count": null,
   "metadata": {},
   "outputs": [],
   "source": []
  }
 ],
 "metadata": {
  "kernelspec": {
   "display_name": "base",
   "language": "python",
   "name": "python3"
  },
  "language_info": {
   "codemirror_mode": {
    "name": "ipython",
    "version": 3
   },
   "file_extension": ".py",
   "mimetype": "text/x-python",
   "name": "python",
   "nbconvert_exporter": "python",
   "pygments_lexer": "ipython3",
   "version": "3.7.6"
  }
 },
 "nbformat": 4,
 "nbformat_minor": 2
}
